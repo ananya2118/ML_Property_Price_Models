{
 "cells": [
  {
   "cell_type": "code",
   "execution_count": 1,
   "id": "aa298e5e-fc7e-487d-906f-d1b44269f3c0",
   "metadata": {},
   "outputs": [],
   "source": [
    "from joblib import dump,load\n",
    "import numpy as np\n",
    "model=load(\"abcd.joblib\")"
   ]
  },
  {
   "cell_type": "code",
   "execution_count": 2,
   "id": "b3cdd2a9-76fa-4ef1-b2a8-313bf645e989",
   "metadata": {},
   "outputs": [
    {
     "data": {
      "text/plain": [
       "array([16.442])"
      ]
     },
     "execution_count": 2,
     "metadata": {},
     "output_type": "execute_result"
    }
   ],
   "source": [
    "input=np.array([[ 0.15720123, -0.46450052,  1.01705271, -0.27401701,  0.53980167,\n",
    "        0.32613956,  0.88843901, -0.72488038,  1.67996393,  1.53139001,\n",
    "        0.78716557,  0.42512727,  0.82657371]])\n",
    "model.predict(input)"
   ]
  },
  {
   "cell_type": "code",
   "execution_count": null,
   "id": "d4973923-c2bf-49df-bdbc-cb41217ae42a",
   "metadata": {},
   "outputs": [],
   "source": []
  },
  {
   "cell_type": "code",
   "execution_count": null,
   "id": "1391c251-bd79-403e-95f7-6179d2528d04",
   "metadata": {},
   "outputs": [],
   "source": []
  }
 ],
 "metadata": {
  "kernelspec": {
   "display_name": "Python 3 (ipykernel)",
   "language": "python",
   "name": "python3"
  },
  "language_info": {
   "codemirror_mode": {
    "name": "ipython",
    "version": 3
   },
   "file_extension": ".py",
   "mimetype": "text/x-python",
   "name": "python",
   "nbconvert_exporter": "python",
   "pygments_lexer": "ipython3",
   "version": "3.10.5"
  }
 },
 "nbformat": 4,
 "nbformat_minor": 5
}
